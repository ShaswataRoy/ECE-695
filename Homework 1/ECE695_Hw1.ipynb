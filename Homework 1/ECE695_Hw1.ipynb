{
  "nbformat": 4,
  "nbformat_minor": 0,
  "metadata": {
    "colab": {
      "name": "ECE695 Hw1.ipynb",
      "provenance": [],
      "collapsed_sections": [],
      "authorship_tag": "ABX9TyPwMnuYHj2izJ8VEMFOx9Zc",
      "include_colab_link": true
    },
    "kernelspec": {
      "name": "python3",
      "display_name": "Python 3"
    },
    "language_info": {
      "name": "python"
    }
  },
  "cells": [
    {
      "cell_type": "markdown",
      "metadata": {
        "id": "view-in-github",
        "colab_type": "text"
      },
      "source": [
        "<a href=\"https://colab.research.google.com/github/ShaswataRoy/ECE-695/blob/main/Homework%201/ECE695_Hw1.ipynb\" target=\"_parent\"><img src=\"https://colab.research.google.com/assets/colab-badge.svg\" alt=\"Open In Colab\"/></a>"
      ]
    },
    {
      "cell_type": "code",
      "execution_count": null,
      "metadata": {
        "id": "f4ESPT5YRqqf",
        "outputId": "1b9d16b8-e79f-4145-fe77-04b98f79e623",
        "colab": {
          "base_uri": "https://localhost:8080/"
        }
      },
      "outputs": [
        {
          "output_type": "stream",
          "name": "stdout",
          "text": [
            "None\n"
          ]
        }
      ],
      "source": [
        "class Countries():\n",
        "    #Answer 1\n",
        "    def __init__(self,capital,population):\n",
        "        self.capital = capital\n",
        "        self.population = population\n",
        "       \n",
        "    #Answer 3\n",
        "    def net_population(self):\n",
        "        birth = self.population[0]\n",
        "        death = self.population[1]\n",
        "        last_count = self.population[2]\n",
        "        current_net = birth-death+last_count\n",
        "        return current_net\n",
        "    \n",
        "class GeoCountry(Countries):\n",
        "    #Answer 4\n",
        "    def __init__(self,capital,population,area):\n",
        "        super().__init__(capital,population)\n",
        "        self.area = area\n",
        "        self.density = 0\n",
        "    \n",
        "    #Answer 6\n",
        "    def density_calculator1(self):\n",
        "        if len(self.population)==3:\n",
        "            self.density = super().net_population()/self.area\n",
        "        else:\n",
        "            self.density = self.net_population()/self.area\n",
        "        \n",
        "    def density_calculator2(self):\n",
        "        birth = self.population[0]\n",
        "        death = self.population[1]\n",
        "        \n",
        "        \n",
        "        if len(self.population)==3:\n",
        "            self.population[2] = self.population[2]-birth+death\n",
        "            self.density = super().net_population()/self.area\n",
        "        else:\n",
        "            self.population[3] = self.population[3]-birth+death\n",
        "            self.density = self.net_population()/self.area\n",
        "        \n",
        "    def net_density(self,choice):\n",
        "        if choice == 1:\n",
        "            return self.density_calculator1\n",
        "        if choice == 2:\n",
        "            return self.density_calculator2\n",
        "    \n",
        "    #Answer 7\n",
        "    def net_population(self):\n",
        "        last_count = super().net_population()\n",
        "        if len(self.population)==3:\n",
        "            self.population.append(last_count)\n",
        "        birth = self.population[0]\n",
        "        death = self.population[1]\n",
        "        second_last_count = self.population[2]\n",
        "        last_count = self.population[3]\n",
        "        current_net = birth-death+(second_last_count+last_count)/2\n",
        "        return current_net\n",
        "    \n",
        "if __name__ == \"__main__\":\n",
        "    country = Countries(\"Piplipol\",[40,30,20]) #Answer 2\n",
        "    obj = GeoCountry(\"Polpip\",[55,10,70],230) #Answer 5\n",
        "    fn = obj.net_density(1)\n",
        "    print(fn())"
      ]
    },
    {
      "cell_type": "code",
      "source": [
        "ob1 = GeoCountry('YYY', [20,100, 1000],5)\n",
        "print(ob1.density)#0\n",
        "print(ob1.population)#[20,100,1000]\n",
        "ob1.density_calculator1()\n",
        "print(ob1.density)#184.0\n",
        "ob1.density_calculator2()\n",
        "print(ob1.population)#[20, 100, 1080]\n",
        "print(ob1.density)#200.0\n",
        "ob2 = GeoCountry('ZZZ', [20, 50, 100], 12)\n",
        "fun = ob2.net_density(2)\n",
        "print(ob2.density)#0\n",
        "fun()\n",
        "print(\"{:.2f}\".format(ob2.density))#8.33\n",
        "print(ob1.population)#[20,100, 1080]\n",
        "print(ob1.net_population())#960.0\n",
        "print(ob1.population)#[20,100,1080,1000]\n",
        "print(ob1.density)#200.0 (the value of density still uses the previous value of population population)\n",
        "############################\n",
        "#You need not stress about this portion below. If your results match, then well and good. If not, it's because the\n",
        "#density_calculators were not modified to take care of both length = 4 and length =3 of population.\n",
        "#The homework did not ask you to do so, but if you want to hone your skills, go for it!!\n",
        "#############################\n",
        "ob1.density_calculator1()\n",
        "print(ob1.population)#[20, 100, 1080, 1000]\n",
        "print(ob1.density)#192.0\n",
        "ob1.density_calculator2()\n",
        "print(ob1.population)#[20, 100, 1080, 1080]\n",
        "print(ob1.density)#200\n"
      ],
      "metadata": {
        "id": "MpYhyDX-WpFj",
        "outputId": "b20b0e96-0bfa-46d6-b4ca-10c453faf1f9",
        "colab": {
          "base_uri": "https://localhost:8080/"
        }
      },
      "execution_count": null,
      "outputs": [
        {
          "output_type": "stream",
          "name": "stdout",
          "text": [
            "0\n",
            "[20, 100, 1000]\n",
            "184.0\n",
            "[20, 100, 1080]\n",
            "200.0\n",
            "0\n",
            "8.33\n",
            "[20, 100, 1080]\n",
            "960.0\n",
            "[20, 100, 1080, 1000]\n",
            "200.0\n",
            "[20, 100, 1080, 1000]\n",
            "192.0\n",
            "[20, 100, 1080, 1080]\n",
            "200.0\n"
          ]
        }
      ]
    },
    {
      "cell_type": "code",
      "source": [
        ""
      ],
      "metadata": {
        "id": "MIJEOAcNfEYV"
      },
      "execution_count": null,
      "outputs": []
    }
  ]
}